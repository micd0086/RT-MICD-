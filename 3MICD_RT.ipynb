{
  "cells": [
    {
      "cell_type": "markdown",
      "metadata": {
        "id": "view-in-github",
        "colab_type": "text"
      },
      "source": [
        "<a href=\"https://colab.research.google.com/github/micd0086/RT-MICD-/blob/main/3MICD_RT.ipynb\" target=\"_parent\"><img src=\"https://colab.research.google.com/assets/colab-badge.svg\" alt=\"Open In Colab\"/></a>"
      ]
    },
    {
      "cell_type": "markdown",
      "metadata": {
        "id": "qUTTqByAlN_T"
      },
      "source": [
        "# 1. Ambiente"
      ]
    },
    {
      "cell_type": "code",
      "execution_count": 1,
      "metadata": {
        "id": "SHZwKDOqloRU"
      },
      "outputs": [],
      "source": [
        "import pandas as pd"
      ]
    },
    {
      "cell_type": "code",
      "execution_count": 2,
      "metadata": {
        "id": "kOo8Vb7MmD3y"
      },
      "outputs": [],
      "source": [
        "import numpy as np"
      ]
    },
    {
      "cell_type": "code",
      "execution_count": 3,
      "metadata": {
        "id": "KVV9Ql7pmI6U"
      },
      "outputs": [],
      "source": [
        "%matplotlib inline\n",
        "import matplotlib.pyplot as plt"
      ]
    },
    {
      "cell_type": "code",
      "execution_count": 4,
      "metadata": {
        "id": "E_7ut7nPmP-s"
      },
      "outputs": [],
      "source": [
        "import yfinance as yf"
      ]
    },
    {
      "cell_type": "code",
      "execution_count": 5,
      "metadata": {
        "id": "uFbzgwPrmSTT"
      },
      "outputs": [],
      "source": [
        "from bs4 import BeautifulSoup\n",
        "from urllib.request import urlopen"
      ]
    },
    {
      "cell_type": "code",
      "execution_count": 6,
      "metadata": {
        "id": "OWZuXvADmUjb"
      },
      "outputs": [],
      "source": [
        "from datetime import date, timedelta"
      ]
    },
    {
      "cell_type": "code",
      "execution_count": 7,
      "metadata": {
        "id": "wiur09UnmWyL"
      },
      "outputs": [],
      "source": [
        "import requests"
      ]
    },
    {
      "cell_type": "markdown",
      "metadata": {
        "id": "9uK1NSMwmZBb"
      },
      "source": [
        "#2. Obtencion de datos"
      ]
    },
    {
      "cell_type": "code",
      "source": [
        "global df_bitcoin, precio_actual, tendencia, media_bitcoin, algoritmo_decision\n",
        "df_bitcoin = None\n",
        "precio_actual = 0\n",
        "tendencia = \"\"\n",
        "media_bitcoin= 0.0\n",
        "algoritmo_decision = \"\""
      ],
      "metadata": {
        "id": "E82KwUEj6Xxx"
      },
      "execution_count": 8,
      "outputs": []
    },
    {
      "cell_type": "code",
      "source": [],
      "metadata": {
        "id": "k9-of2yC6pdc"
      },
      "execution_count": 8,
      "outputs": []
    },
    {
      "cell_type": "code",
      "execution_count": 9,
      "metadata": {
        "id": "6yhl-lMnmrLj"
      },
      "outputs": [],
      "source": [
        "#Utiliza la biblioteca yfinance de Python para extraer el histórico de precios del Bitcoin en dólares BTC-USD, deberás extraer el histórico de los últimos 7 días en intervalos de 5 minutos, este histórico deberás guardarlo en el dataframe df_bitcoin."
      ]
    },
    {
      "cell_type": "code",
      "execution_count": 10,
      "metadata": {
        "id": "xCQvo1bkpHI3"
      },
      "outputs": [],
      "source": [
        "url1 = 'https://finance.yahoo.com/quote/BTC-USD/history?p=BTC-USD'\n",
        "ua = 'Mozilla/5.0 (Windows NT 10.0; Win64; x64) AppleWebKit/537.36 (KHTML, like Gecko) Chrome/118.0.0.0 Safari/537.36'\n",
        "r = requests.get(url1, headers={'User-Agent': ua})\n",
        "indices = pd.read_html(r.text)[0]"
      ]
    },
    {
      "cell_type": "code",
      "source": [
        "def importar_base_bitcoin():\n",
        "\n",
        "  global df_bitcoin\n",
        "\n",
        "  bitcoin = yf.Ticker('BTC-USD')\n",
        "  df_bitcoin = bitcoin.history(period='7d', interval='5m')\n",
        "\n",
        "  return df_bitcoin"
      ],
      "metadata": {
        "id": "bUv9al-w8Y7J"
      },
      "execution_count": 11,
      "outputs": []
    },
    {
      "cell_type": "code",
      "source": [
        "df_bitcoin"
      ],
      "metadata": {
        "id": "iKofx6UP84LX"
      },
      "execution_count": 12,
      "outputs": []
    },
    {
      "cell_type": "code",
      "execution_count": 13,
      "metadata": {
        "id": "XC0yHNedqNN5",
        "colab": {
          "base_uri": "https://localhost:8080/",
          "height": 455
        },
        "outputId": "66f56402-c768-4430-8e30-ffa61f8a3030"
      },
      "outputs": [
        {
          "output_type": "execute_result",
          "data": {
            "text/plain": [
              "                                   Open          High           Low  \\\n",
              "Datetime                                                              \n",
              "2023-12-02 00:00:00+00:00  38689.277344  38711.820312  38689.277344   \n",
              "2023-12-02 00:05:00+00:00  38712.707031  38717.660156  38700.671875   \n",
              "2023-12-02 00:10:00+00:00  38708.457031  38708.457031  38671.625000   \n",
              "2023-12-02 00:15:00+00:00  38666.070312  38670.238281  38664.390625   \n",
              "2023-12-02 00:20:00+00:00  38671.085938  38680.378906  38671.085938   \n",
              "...                                 ...           ...           ...   \n",
              "2023-12-08 03:15:00+00:00  43420.554688  43426.445312  43410.718750   \n",
              "2023-12-08 03:20:00+00:00  43428.007812  43428.007812  43407.621094   \n",
              "2023-12-08 03:25:00+00:00  43417.375000  43431.542969  43415.921875   \n",
              "2023-12-08 03:30:00+00:00  43432.351562  43434.339844  43427.089844   \n",
              "2023-12-08 03:35:00+00:00  43442.839844  43449.855469  43440.773438   \n",
              "\n",
              "                                  Close    Volume  Dividends  Stock Splits  \n",
              "Datetime                                                                    \n",
              "2023-12-02 00:00:00+00:00  38711.820312         0        0.0           0.0  \n",
              "2023-12-02 00:05:00+00:00  38700.671875         0        0.0           0.0  \n",
              "2023-12-02 00:10:00+00:00  38675.003906         0        0.0           0.0  \n",
              "2023-12-02 00:15:00+00:00  38670.238281         0        0.0           0.0  \n",
              "2023-12-02 00:20:00+00:00  38673.964844   1474560        0.0           0.0  \n",
              "...                                 ...       ...        ...           ...  \n",
              "2023-12-08 03:15:00+00:00  43426.445312   8749056        0.0           0.0  \n",
              "2023-12-08 03:20:00+00:00  43412.171875  47196160        0.0           0.0  \n",
              "2023-12-08 03:25:00+00:00  43431.542969  54394880        0.0           0.0  \n",
              "2023-12-08 03:30:00+00:00  43434.339844   5126144        0.0           0.0  \n",
              "2023-12-08 03:35:00+00:00  43440.773438   6281216        0.0           0.0  \n",
              "\n",
              "[1758 rows x 7 columns]"
            ],
            "text/html": [
              "\n",
              "  <div id=\"df-db0ca02a-7858-4ce8-9451-e3b40215b7d4\" class=\"colab-df-container\">\n",
              "    <div>\n",
              "<style scoped>\n",
              "    .dataframe tbody tr th:only-of-type {\n",
              "        vertical-align: middle;\n",
              "    }\n",
              "\n",
              "    .dataframe tbody tr th {\n",
              "        vertical-align: top;\n",
              "    }\n",
              "\n",
              "    .dataframe thead th {\n",
              "        text-align: right;\n",
              "    }\n",
              "</style>\n",
              "<table border=\"1\" class=\"dataframe\">\n",
              "  <thead>\n",
              "    <tr style=\"text-align: right;\">\n",
              "      <th></th>\n",
              "      <th>Open</th>\n",
              "      <th>High</th>\n",
              "      <th>Low</th>\n",
              "      <th>Close</th>\n",
              "      <th>Volume</th>\n",
              "      <th>Dividends</th>\n",
              "      <th>Stock Splits</th>\n",
              "    </tr>\n",
              "    <tr>\n",
              "      <th>Datetime</th>\n",
              "      <th></th>\n",
              "      <th></th>\n",
              "      <th></th>\n",
              "      <th></th>\n",
              "      <th></th>\n",
              "      <th></th>\n",
              "      <th></th>\n",
              "    </tr>\n",
              "  </thead>\n",
              "  <tbody>\n",
              "    <tr>\n",
              "      <th>2023-12-02 00:00:00+00:00</th>\n",
              "      <td>38689.277344</td>\n",
              "      <td>38711.820312</td>\n",
              "      <td>38689.277344</td>\n",
              "      <td>38711.820312</td>\n",
              "      <td>0</td>\n",
              "      <td>0.0</td>\n",
              "      <td>0.0</td>\n",
              "    </tr>\n",
              "    <tr>\n",
              "      <th>2023-12-02 00:05:00+00:00</th>\n",
              "      <td>38712.707031</td>\n",
              "      <td>38717.660156</td>\n",
              "      <td>38700.671875</td>\n",
              "      <td>38700.671875</td>\n",
              "      <td>0</td>\n",
              "      <td>0.0</td>\n",
              "      <td>0.0</td>\n",
              "    </tr>\n",
              "    <tr>\n",
              "      <th>2023-12-02 00:10:00+00:00</th>\n",
              "      <td>38708.457031</td>\n",
              "      <td>38708.457031</td>\n",
              "      <td>38671.625000</td>\n",
              "      <td>38675.003906</td>\n",
              "      <td>0</td>\n",
              "      <td>0.0</td>\n",
              "      <td>0.0</td>\n",
              "    </tr>\n",
              "    <tr>\n",
              "      <th>2023-12-02 00:15:00+00:00</th>\n",
              "      <td>38666.070312</td>\n",
              "      <td>38670.238281</td>\n",
              "      <td>38664.390625</td>\n",
              "      <td>38670.238281</td>\n",
              "      <td>0</td>\n",
              "      <td>0.0</td>\n",
              "      <td>0.0</td>\n",
              "    </tr>\n",
              "    <tr>\n",
              "      <th>2023-12-02 00:20:00+00:00</th>\n",
              "      <td>38671.085938</td>\n",
              "      <td>38680.378906</td>\n",
              "      <td>38671.085938</td>\n",
              "      <td>38673.964844</td>\n",
              "      <td>1474560</td>\n",
              "      <td>0.0</td>\n",
              "      <td>0.0</td>\n",
              "    </tr>\n",
              "    <tr>\n",
              "      <th>...</th>\n",
              "      <td>...</td>\n",
              "      <td>...</td>\n",
              "      <td>...</td>\n",
              "      <td>...</td>\n",
              "      <td>...</td>\n",
              "      <td>...</td>\n",
              "      <td>...</td>\n",
              "    </tr>\n",
              "    <tr>\n",
              "      <th>2023-12-08 03:15:00+00:00</th>\n",
              "      <td>43420.554688</td>\n",
              "      <td>43426.445312</td>\n",
              "      <td>43410.718750</td>\n",
              "      <td>43426.445312</td>\n",
              "      <td>8749056</td>\n",
              "      <td>0.0</td>\n",
              "      <td>0.0</td>\n",
              "    </tr>\n",
              "    <tr>\n",
              "      <th>2023-12-08 03:20:00+00:00</th>\n",
              "      <td>43428.007812</td>\n",
              "      <td>43428.007812</td>\n",
              "      <td>43407.621094</td>\n",
              "      <td>43412.171875</td>\n",
              "      <td>47196160</td>\n",
              "      <td>0.0</td>\n",
              "      <td>0.0</td>\n",
              "    </tr>\n",
              "    <tr>\n",
              "      <th>2023-12-08 03:25:00+00:00</th>\n",
              "      <td>43417.375000</td>\n",
              "      <td>43431.542969</td>\n",
              "      <td>43415.921875</td>\n",
              "      <td>43431.542969</td>\n",
              "      <td>54394880</td>\n",
              "      <td>0.0</td>\n",
              "      <td>0.0</td>\n",
              "    </tr>\n",
              "    <tr>\n",
              "      <th>2023-12-08 03:30:00+00:00</th>\n",
              "      <td>43432.351562</td>\n",
              "      <td>43434.339844</td>\n",
              "      <td>43427.089844</td>\n",
              "      <td>43434.339844</td>\n",
              "      <td>5126144</td>\n",
              "      <td>0.0</td>\n",
              "      <td>0.0</td>\n",
              "    </tr>\n",
              "    <tr>\n",
              "      <th>2023-12-08 03:35:00+00:00</th>\n",
              "      <td>43442.839844</td>\n",
              "      <td>43449.855469</td>\n",
              "      <td>43440.773438</td>\n",
              "      <td>43440.773438</td>\n",
              "      <td>6281216</td>\n",
              "      <td>0.0</td>\n",
              "      <td>0.0</td>\n",
              "    </tr>\n",
              "  </tbody>\n",
              "</table>\n",
              "<p>1758 rows × 7 columns</p>\n",
              "</div>\n",
              "    <div class=\"colab-df-buttons\">\n",
              "\n",
              "  <div class=\"colab-df-container\">\n",
              "    <button class=\"colab-df-convert\" onclick=\"convertToInteractive('df-db0ca02a-7858-4ce8-9451-e3b40215b7d4')\"\n",
              "            title=\"Convert this dataframe to an interactive table.\"\n",
              "            style=\"display:none;\">\n",
              "\n",
              "  <svg xmlns=\"http://www.w3.org/2000/svg\" height=\"24px\" viewBox=\"0 -960 960 960\">\n",
              "    <path d=\"M120-120v-720h720v720H120Zm60-500h600v-160H180v160Zm220 220h160v-160H400v160Zm0 220h160v-160H400v160ZM180-400h160v-160H180v160Zm440 0h160v-160H620v160ZM180-180h160v-160H180v160Zm440 0h160v-160H620v160Z\"/>\n",
              "  </svg>\n",
              "    </button>\n",
              "\n",
              "  <style>\n",
              "    .colab-df-container {\n",
              "      display:flex;\n",
              "      gap: 12px;\n",
              "    }\n",
              "\n",
              "    .colab-df-convert {\n",
              "      background-color: #E8F0FE;\n",
              "      border: none;\n",
              "      border-radius: 50%;\n",
              "      cursor: pointer;\n",
              "      display: none;\n",
              "      fill: #1967D2;\n",
              "      height: 32px;\n",
              "      padding: 0 0 0 0;\n",
              "      width: 32px;\n",
              "    }\n",
              "\n",
              "    .colab-df-convert:hover {\n",
              "      background-color: #E2EBFA;\n",
              "      box-shadow: 0px 1px 2px rgba(60, 64, 67, 0.3), 0px 1px 3px 1px rgba(60, 64, 67, 0.15);\n",
              "      fill: #174EA6;\n",
              "    }\n",
              "\n",
              "    .colab-df-buttons div {\n",
              "      margin-bottom: 4px;\n",
              "    }\n",
              "\n",
              "    [theme=dark] .colab-df-convert {\n",
              "      background-color: #3B4455;\n",
              "      fill: #D2E3FC;\n",
              "    }\n",
              "\n",
              "    [theme=dark] .colab-df-convert:hover {\n",
              "      background-color: #434B5C;\n",
              "      box-shadow: 0px 1px 3px 1px rgba(0, 0, 0, 0.15);\n",
              "      filter: drop-shadow(0px 1px 2px rgba(0, 0, 0, 0.3));\n",
              "      fill: #FFFFFF;\n",
              "    }\n",
              "  </style>\n",
              "\n",
              "    <script>\n",
              "      const buttonEl =\n",
              "        document.querySelector('#df-db0ca02a-7858-4ce8-9451-e3b40215b7d4 button.colab-df-convert');\n",
              "      buttonEl.style.display =\n",
              "        google.colab.kernel.accessAllowed ? 'block' : 'none';\n",
              "\n",
              "      async function convertToInteractive(key) {\n",
              "        const element = document.querySelector('#df-db0ca02a-7858-4ce8-9451-e3b40215b7d4');\n",
              "        const dataTable =\n",
              "          await google.colab.kernel.invokeFunction('convertToInteractive',\n",
              "                                                    [key], {});\n",
              "        if (!dataTable) return;\n",
              "\n",
              "        const docLinkHtml = 'Like what you see? Visit the ' +\n",
              "          '<a target=\"_blank\" href=https://colab.research.google.com/notebooks/data_table.ipynb>data table notebook</a>'\n",
              "          + ' to learn more about interactive tables.';\n",
              "        element.innerHTML = '';\n",
              "        dataTable['output_type'] = 'display_data';\n",
              "        await google.colab.output.renderOutput(dataTable, element);\n",
              "        const docLink = document.createElement('div');\n",
              "        docLink.innerHTML = docLinkHtml;\n",
              "        element.appendChild(docLink);\n",
              "      }\n",
              "    </script>\n",
              "  </div>\n",
              "\n",
              "\n",
              "<div id=\"df-b814f1ab-c41b-4746-972b-5cd061662d51\">\n",
              "  <button class=\"colab-df-quickchart\" onclick=\"quickchart('df-b814f1ab-c41b-4746-972b-5cd061662d51')\"\n",
              "            title=\"Suggest charts\"\n",
              "            style=\"display:none;\">\n",
              "\n",
              "<svg xmlns=\"http://www.w3.org/2000/svg\" height=\"24px\"viewBox=\"0 0 24 24\"\n",
              "     width=\"24px\">\n",
              "    <g>\n",
              "        <path d=\"M19 3H5c-1.1 0-2 .9-2 2v14c0 1.1.9 2 2 2h14c1.1 0 2-.9 2-2V5c0-1.1-.9-2-2-2zM9 17H7v-7h2v7zm4 0h-2V7h2v10zm4 0h-2v-4h2v4z\"/>\n",
              "    </g>\n",
              "</svg>\n",
              "  </button>\n",
              "\n",
              "<style>\n",
              "  .colab-df-quickchart {\n",
              "      --bg-color: #E8F0FE;\n",
              "      --fill-color: #1967D2;\n",
              "      --hover-bg-color: #E2EBFA;\n",
              "      --hover-fill-color: #174EA6;\n",
              "      --disabled-fill-color: #AAA;\n",
              "      --disabled-bg-color: #DDD;\n",
              "  }\n",
              "\n",
              "  [theme=dark] .colab-df-quickchart {\n",
              "      --bg-color: #3B4455;\n",
              "      --fill-color: #D2E3FC;\n",
              "      --hover-bg-color: #434B5C;\n",
              "      --hover-fill-color: #FFFFFF;\n",
              "      --disabled-bg-color: #3B4455;\n",
              "      --disabled-fill-color: #666;\n",
              "  }\n",
              "\n",
              "  .colab-df-quickchart {\n",
              "    background-color: var(--bg-color);\n",
              "    border: none;\n",
              "    border-radius: 50%;\n",
              "    cursor: pointer;\n",
              "    display: none;\n",
              "    fill: var(--fill-color);\n",
              "    height: 32px;\n",
              "    padding: 0;\n",
              "    width: 32px;\n",
              "  }\n",
              "\n",
              "  .colab-df-quickchart:hover {\n",
              "    background-color: var(--hover-bg-color);\n",
              "    box-shadow: 0 1px 2px rgba(60, 64, 67, 0.3), 0 1px 3px 1px rgba(60, 64, 67, 0.15);\n",
              "    fill: var(--button-hover-fill-color);\n",
              "  }\n",
              "\n",
              "  .colab-df-quickchart-complete:disabled,\n",
              "  .colab-df-quickchart-complete:disabled:hover {\n",
              "    background-color: var(--disabled-bg-color);\n",
              "    fill: var(--disabled-fill-color);\n",
              "    box-shadow: none;\n",
              "  }\n",
              "\n",
              "  .colab-df-spinner {\n",
              "    border: 2px solid var(--fill-color);\n",
              "    border-color: transparent;\n",
              "    border-bottom-color: var(--fill-color);\n",
              "    animation:\n",
              "      spin 1s steps(1) infinite;\n",
              "  }\n",
              "\n",
              "  @keyframes spin {\n",
              "    0% {\n",
              "      border-color: transparent;\n",
              "      border-bottom-color: var(--fill-color);\n",
              "      border-left-color: var(--fill-color);\n",
              "    }\n",
              "    20% {\n",
              "      border-color: transparent;\n",
              "      border-left-color: var(--fill-color);\n",
              "      border-top-color: var(--fill-color);\n",
              "    }\n",
              "    30% {\n",
              "      border-color: transparent;\n",
              "      border-left-color: var(--fill-color);\n",
              "      border-top-color: var(--fill-color);\n",
              "      border-right-color: var(--fill-color);\n",
              "    }\n",
              "    40% {\n",
              "      border-color: transparent;\n",
              "      border-right-color: var(--fill-color);\n",
              "      border-top-color: var(--fill-color);\n",
              "    }\n",
              "    60% {\n",
              "      border-color: transparent;\n",
              "      border-right-color: var(--fill-color);\n",
              "    }\n",
              "    80% {\n",
              "      border-color: transparent;\n",
              "      border-right-color: var(--fill-color);\n",
              "      border-bottom-color: var(--fill-color);\n",
              "    }\n",
              "    90% {\n",
              "      border-color: transparent;\n",
              "      border-bottom-color: var(--fill-color);\n",
              "    }\n",
              "  }\n",
              "</style>\n",
              "\n",
              "  <script>\n",
              "    async function quickchart(key) {\n",
              "      const quickchartButtonEl =\n",
              "        document.querySelector('#' + key + ' button');\n",
              "      quickchartButtonEl.disabled = true;  // To prevent multiple clicks.\n",
              "      quickchartButtonEl.classList.add('colab-df-spinner');\n",
              "      try {\n",
              "        const charts = await google.colab.kernel.invokeFunction(\n",
              "            'suggestCharts', [key], {});\n",
              "      } catch (error) {\n",
              "        console.error('Error during call to suggestCharts:', error);\n",
              "      }\n",
              "      quickchartButtonEl.classList.remove('colab-df-spinner');\n",
              "      quickchartButtonEl.classList.add('colab-df-quickchart-complete');\n",
              "    }\n",
              "    (() => {\n",
              "      let quickchartButtonEl =\n",
              "        document.querySelector('#df-b814f1ab-c41b-4746-972b-5cd061662d51 button');\n",
              "      quickchartButtonEl.style.display =\n",
              "        google.colab.kernel.accessAllowed ? 'block' : 'none';\n",
              "    })();\n",
              "  </script>\n",
              "</div>\n",
              "    </div>\n",
              "  </div>\n"
            ]
          },
          "metadata": {},
          "execution_count": 13
        }
      ],
      "source": [
        "importar_base_bitcoin()"
      ]
    },
    {
      "cell_type": "code",
      "execution_count": 14,
      "metadata": {
        "id": "rkPQcoUTqQXf"
      },
      "outputs": [],
      "source": [
        "#Web scraping para obtener el precio actual y extraer tendencias"
      ]
    },
    {
      "cell_type": "code",
      "execution_count": 15,
      "metadata": {
        "colab": {
          "base_uri": "https://localhost:8080/",
          "height": 54
        },
        "id": "YMEdq1Lfst86",
        "outputId": "399cfada-76b1-4fd5-9cb4-305d21a08239"
      },
      "outputs": [
        {
          "output_type": "stream",
          "name": "stdout",
          "text": [
            "<span class=\"icon-Caret-up\"></span>\n"
          ]
        },
        {
          "output_type": "execute_result",
          "data": {
            "text/plain": [
              "'alta'"
            ],
            "application/vnd.google.colaboratory.intrinsic+json": {
              "type": "string"
            }
          },
          "metadata": {},
          "execution_count": 15
        }
      ],
      "source": [
        "import requests\n",
        "res =requests.get('https://coinmarketcap.com/')\n",
        "global_bitcoin = pd.read_html(res.content)\n",
        "s=BeautifulSoup(res.content, features= 'lxml')\n",
        "resp= s.find('div', {'class':[ 'sc-a0353bbc-0 gDrtaY', 'sc-a0353bbc-0 gDrtaY rise', 'sc-a0353bbc-0 gDrtaY fall']}).get_text()\n",
        "precio_actual= float((resp).replace('$','').replace(',',''))\n",
        "precio_actual\n",
        "\n",
        "#tendencia\n",
        "lista=[]\n",
        "resp1 = s.findAll('span', {'class':['icon-Caret-down', 'icon-Caret-up']})\n",
        "for item in resp1:\n",
        " lista.append(item)\n",
        "\n",
        "print(lista[0])\n",
        "algoritmo_decision= ''\n",
        "if item(('span')==['class'][0]):\n",
        "  tendencia = 'baja'\n",
        "else:\n",
        "   tendencia = 'alta'\n",
        "\n",
        "tendencia"
      ]
    },
    {
      "cell_type": "code",
      "execution_count": 16,
      "metadata": {
        "colab": {
          "base_uri": "https://localhost:8080/"
        },
        "id": "nVEbMNPrtTKF",
        "outputId": "86eed6ea-b329-4288-a42d-d1fd3468facf"
      },
      "outputs": [
        {
          "output_type": "stream",
          "name": "stdout",
          "text": [
            "Bitcoin Price:  43440.77\n",
            "Tendencia:  alta\n"
          ]
        }
      ],
      "source": [
        "def extraer_tendencias():\n",
        "  global media_bitcoin, precio_actual, algoritmo_decision, tendencia\n",
        "  print('Bitcoin Price: ', precio_actual)\n",
        "  print('Tendencia: ', tendencia)\n",
        "\n",
        "extraer_tendencias()"
      ]
    },
    {
      "cell_type": "code",
      "execution_count": 16,
      "metadata": {
        "id": "DRy3udETtTLL"
      },
      "outputs": [],
      "source": []
    },
    {
      "cell_type": "markdown",
      "metadata": {
        "id": "1OPae_u8t0ot"
      },
      "source": [
        "#3. Limpieza de datos"
      ]
    },
    {
      "cell_type": "code",
      "execution_count": 17,
      "metadata": {
        "id": "bir6bjPmuPfx"
      },
      "outputs": [],
      "source": [
        "df_bitcoin_limpio = df_bitcoin"
      ]
    },
    {
      "cell_type": "code",
      "execution_count": 18,
      "metadata": {
        "colab": {
          "base_uri": "https://localhost:8080/",
          "height": 955
        },
        "id": "NBm8OS_Bu8Hb",
        "outputId": "f2abf948-8b2e-4928-ad0b-40dcbab5a64d"
      },
      "outputs": [
        {
          "output_type": "stream",
          "name": "stdout",
          "text": [
            "                                   Open          High           Low  \\\n",
            "Datetime                                                              \n",
            "2023-12-02 00:00:00+00:00  38689.277344  38711.820312  38689.277344   \n",
            "2023-12-02 00:05:00+00:00  38712.707031  38717.660156  38700.671875   \n",
            "2023-12-02 00:10:00+00:00  38708.457031  38708.457031  38671.625000   \n",
            "2023-12-02 00:15:00+00:00  38666.070312  38670.238281  38664.390625   \n",
            "2023-12-02 00:20:00+00:00  38671.085938  38680.378906  38671.085938   \n",
            "...                                 ...           ...           ...   \n",
            "2023-12-08 03:15:00+00:00  43420.554688  43426.445312  43410.718750   \n",
            "2023-12-08 03:20:00+00:00  43428.007812  43428.007812  43407.621094   \n",
            "2023-12-08 03:25:00+00:00  43417.375000  43431.542969  43415.921875   \n",
            "2023-12-08 03:30:00+00:00  43432.351562  43434.339844  43427.089844   \n",
            "2023-12-08 03:35:00+00:00  43442.839844  43449.855469  43440.773438   \n",
            "\n",
            "                                  Close    Volume  Dividends  Stock Splits  \n",
            "Datetime                                                                    \n",
            "2023-12-02 00:00:00+00:00  38711.820312         0        0.0           0.0  \n",
            "2023-12-02 00:05:00+00:00  38700.671875         0        0.0           0.0  \n",
            "2023-12-02 00:10:00+00:00  38675.003906         0        0.0           0.0  \n",
            "2023-12-02 00:15:00+00:00  38670.238281         0        0.0           0.0  \n",
            "2023-12-02 00:20:00+00:00  38673.964844   1474560        0.0           0.0  \n",
            "...                                 ...       ...        ...           ...  \n",
            "2023-12-08 03:15:00+00:00  43426.445312   8749056        0.0           0.0  \n",
            "2023-12-08 03:20:00+00:00  43412.171875  47196160        0.0           0.0  \n",
            "2023-12-08 03:25:00+00:00  43431.542969  54394880        0.0           0.0  \n",
            "2023-12-08 03:30:00+00:00  43434.339844   5126144        0.0           0.0  \n",
            "2023-12-08 03:35:00+00:00  43440.773438   6281216        0.0           0.0  \n",
            "\n",
            "[1758 rows x 7 columns]\n"
          ]
        },
        {
          "output_type": "display_data",
          "data": {
            "text/plain": [
              "<Figure size 640x480 with 1 Axes>"
            ],
            "image/png": "[encoded data removed]"
          },
          "metadata": {}
        }
      ],
      "source": [
        "def limpieza_datos():\n",
        "  df_bitcoin_limpio = df_bitcoin.copy()\n",
        "  df_bitcoin_limpio [['Close', 'Volume']]\n",
        "  df_bitcoin_limpio['Datetime'] = df_bitcoin_limpio.index\n",
        "  df_bitcoin_limpio =df_bitcoin_limpio[['Datetime', 'Close', 'Volume' ]]\n",
        "  df_bitcoin_limpio = df_bitcoin_limpio.set_index('Datetime')\n",
        "  df_bitcoin_limpio.drop_duplicates(inplace=True)\n",
        "  df_bitcoin_limpio[df_bitcoin_limpio['Close'].isnull()]\n",
        "  df_bitcoin_limpio[df_bitcoin_limpio['Volume'] >= 0]\n",
        "  df_bitcoin_limpio.boxplot(['Close']) #identificando los outliers\n",
        "valor = df_bitcoin_limpio['Close']\n",
        "Q1 = valor.quantile(.25)\n",
        "Q3 = valor.quantile(.75)\n",
        "IIQ = Q3 - Q1\n",
        "limite_inferior = Q1- 1.5 * IIQ\n",
        "limite_superior = Q3 + 1.5 * IIQ\n",
        "seleccion =  ((valor>= Q1) & (valor<=Q3))\n",
        "media_bitcoin = df_bitcoin_limpio[seleccion]\n",
        "media_bitcoin.boxplot(['Close'])\n",
        "\n",
        "print (df_bitcoin_limpio)"
      ]
    },
    {
      "cell_type": "code",
      "execution_count": 19,
      "metadata": {
        "colab": {
          "base_uri": "https://localhost:8080/"
        },
        "id": "HIEFtuAbxCSi",
        "outputId": "cf4e584c-77ce-4f42-aa0b-7e812ee8efeb"
      },
      "outputs": [
        {
          "output_type": "stream",
          "name": "stdout",
          "text": [
            "<class 'pandas.core.frame.DataFrame'>\n",
            "DatetimeIndex: 1758 entries, 2023-12-02 00:00:00+00:00 to 2023-12-08 03:35:00+00:00\n",
            "Data columns (total 7 columns):\n",
            " #   Column        Non-Null Count  Dtype  \n",
            "---  ------        --------------  -----  \n",
            " 0   Open          1758 non-null   float64\n",
            " 1   High          1758 non-null   float64\n",
            " 2   Low           1758 non-null   float64\n",
            " 3   Close         1758 non-null   float64\n",
            " 4   Volume        1758 non-null   int64  \n",
            " 5   Dividends     1758 non-null   float64\n",
            " 6   Stock Splits  1758 non-null   float64\n",
            "dtypes: float64(6), int64(1)\n",
            "memory usage: 109.9 KB\n"
          ]
        }
      ],
      "source": [
        "df_bitcoin_limpio.info() #no tengo nulos en mi df"
      ]
    },
    {
      "cell_type": "code",
      "execution_count": 20,
      "metadata": {
        "colab": {
          "base_uri": "https://localhost:8080/",
          "height": 448
        },
        "id": "4o1K0kz7xSg0",
        "outputId": "9135f54b-396c-4fc5-e697-30ef7ad66ba1"
      },
      "outputs": [
        {
          "output_type": "execute_result",
          "data": {
            "text/plain": [
              "<Axes: >"
            ]
          },
          "metadata": {},
          "execution_count": 20
        },
        {
          "output_type": "display_data",
          "data": {
            "text/plain": [
              "<Figure size 640x480 with 1 Axes>"
            ],
            "image/png": "[encoded data removed]"
          },
          "metadata": {}
        }
      ],
      "source": [
        "df_bitcoin_limpio.boxplot(['Close']) #identificando los outliers"
      ]
    },
    {
      "cell_type": "code",
      "execution_count": 21,
      "metadata": {
        "colab": {
          "base_uri": "https://localhost:8080/"
        },
        "id": "eU3HVVh10IFV",
        "outputId": "8f30ee95-43de-4aeb-dd85-256542c4a95e"
      },
      "outputs": [
        {
          "output_type": "execute_result",
          "data": {
            "text/plain": [
              "41654.59"
            ]
          },
          "metadata": {},
          "execution_count": 21
        }
      ],
      "source": [
        "media_bitcoin =df_bitcoin_limpio['Close'].mean().round(2) #calculo del precio promedio de Close\n",
        "media_bitcoin"
      ]
    },
    {
      "cell_type": "code",
      "execution_count": 21,
      "metadata": {
        "id": "IW9LGG6z0K20"
      },
      "outputs": [],
      "source": []
    },
    {
      "cell_type": "markdown",
      "metadata": {
        "id": "BCPrSAXE1MQ_"
      },
      "source": [
        "#4. Tomar decisiones"
      ]
    },
    {
      "cell_type": "code",
      "execution_count": 22,
      "metadata": {
        "id": "unZJQttM1QFB"
      },
      "outputs": [],
      "source": [
        "def take_decision():\n",
        " global  media_bitcoin, precio_actual, algoritmo_decision\n",
        " if precio_actual > media_bitcoin:\n",
        "  tendencia: 'alta'\n",
        "  algoritmo_decision = 'Vender'\n",
        " if precio_actual < media_bitcoin:\n",
        "  tendencia: 'baja'\n",
        "  algoritmo_decision = 'Comprar'\n",
        " else:\n",
        "  algoritmo_decision = 'Esperar'\n",
        " print('La decision a tomar es:', algoritmo_decision)"
      ]
    },
    {
      "cell_type": "code",
      "execution_count": 23,
      "metadata": {
        "colab": {
          "base_uri": "https://localhost:8080/"
        },
        "id": "DbSOLWHu1eWy",
        "outputId": "9916c9eb-b468-43d6-f2b6-bbf3e390dd0c"
      },
      "outputs": [
        {
          "output_type": "stream",
          "name": "stdout",
          "text": [
            "La decision a tomar es: Esperar\n"
          ]
        }
      ],
      "source": [
        "take_decision()"
      ]
    },
    {
      "cell_type": "code",
      "execution_count": 23,
      "metadata": {
        "id": "Dp6vfSt91lNx"
      },
      "outputs": [],
      "source": []
    },
    {
      "cell_type": "markdown",
      "metadata": {
        "id": "aIztgEuF2cZW"
      },
      "source": [
        "#5.Visualizacion"
      ]
    },
    {
      "cell_type": "code",
      "execution_count": 24,
      "metadata": {
        "colab": {
          "base_uri": "https://localhost:8080/",
          "height": 452
        },
        "id": "aI3F_aWy2fAs",
        "outputId": "c95ebff9-0167-42ab-e119-16878d0c8597"
      },
      "outputs": [
        {
          "output_type": "display_data",
          "data": {
            "text/plain": [
              "<Figure size 640x480 with 1 Axes>"
            ],
            "image/png": "[encoded data removed]"
          },
          "metadata": {}
        }
      ],
      "source": [
        "def visualizacion():\n",
        " global media_bitcoin, precio_actual, algoritmo_decision, tendencia\n",
        " df_bitcoin['Promedio']= media_bitcoin\n",
        " area = plt.figure()\n",
        " plt.rc('figure', figsize = (16, 5))\n",
        " datos_bitcoin = df_bitcoin.Close\n",
        " plt.title('Bitcoin Historical Price')\n",
        " plt.plot(df_bitcoin.index, df_bitcoin['Close'], label= 'Closing Price')\n",
        " plt.plot(df_bitcoin.index, df_bitcoin['Promedio'], label= 'Promedio')\n",
        " plt.show()\n",
        "\n",
        "visualizacion()"
      ]
    },
    {
      "cell_type": "code",
      "execution_count": 24,
      "metadata": {
        "id": "A9CsBT3H2xiz"
      },
      "outputs": [],
      "source": []
    },
    {
      "cell_type": "markdown",
      "metadata": {
        "id": "CItV5zK426wm"
      },
      "source": [
        "# 6. Automatizacion"
      ]
    },
    {
      "cell_type": "code",
      "execution_count": 25,
      "metadata": {
        "id": "QSh96uHw-h8_"
      },
      "outputs": [],
      "source": [
        "from IPython.display import clear_output\n",
        "import time"
      ]
    },
    {
      "cell_type": "code",
      "execution_count": null,
      "metadata": {
        "colab": {
          "base_uri": "https://localhost:8080/",
          "height": 933
        },
        "id": "j8-nqngI_USo",
        "outputId": "e38dbd4e-e8e1-4f56-8d9a-90039073c7a6"
      },
      "outputs": [
        {
          "output_type": "stream",
          "name": "stdout",
          "text": [
            "Bitcoin Price:  43440.77\n",
            "Tendencia:  alta\n",
            "La decision a tomar es: Esperar\n"
          ]
        },
        {
          "output_type": "display_data",
          "data": {
            "text/plain": [
              "<Figure size 1600x500 with 1 Axes>"
            ],
            "image/png": "[encoded data removed]"
          },
          "metadata": {}
        },
        {
          "output_type": "display_data",
          "data": {
            "text/plain": [
              "<Figure size 1600x500 with 1 Axes>"
            ],
            "image/png": "[encoded data removed]"
          },
          "metadata": {}
        }
      ],
      "source": [
        "while(True):\n",
        "  clear_output()\n",
        "  importar_base_bitcoin()\n",
        "  extraer_tendencias()\n",
        "  limpieza_datos()\n",
        "  take_decision()\n",
        "  visualizacion()\n",
        "  time.sleep(300)"
      ]
    },
    {
      "cell_type": "code",
      "execution_count": null,
      "metadata": {
        "id": "D2T2-FCO_X60"
      },
      "outputs": [],
      "source": []
    }
  ],
  "metadata": {
    "colab": {
      "provenance": [],
      "authorship_tag": "ABX9TyOe7rJMwuQDVtp75Dpa9i3P",
      "include_colab_link": true
    },
    "kernelspec": {
      "display_name": "Python 3",
      "name": "python3"
    },
    "language_info": {
      "name": "python"
    }
  },
  "nbformat": 4,
  "nbformat_minor": 0
}